{
 "cells": [
  {
   "cell_type": "code",
   "execution_count": 1,
   "metadata": {
    "collapsed": true
   },
   "outputs": [],
   "source": [
    "import os\n",
    "from PIL import Image\n",
    "import numpy as np"
   ]
  },
  {
   "cell_type": "code",
   "execution_count": 17,
   "metadata": {
    "collapsed": true
   },
   "outputs": [],
   "source": [
    "imgdir = \"Images\"\n",
    "resdir = \"Resimages\"\n",
    "\n",
    "breads = [\"beagle\", 'EntleBucher', 'collie', 'Chihuahua', 'boxer', 'Doberman', 'English_foxhound', 'Rottweiler', 'German_shepherd', 'French_bulldog', 'golden_retriever', 'Maltese_dog']\n",
    "\n",
    "def parseImg(imgdir, resdir):\n",
    "    size = 128\n",
    "    count = 0\n",
    "    for f in os.walk(imgdir):\n",
    "        img_list = f[2]\n",
    "        bread = f[0]\n",
    "        if bread == imgdir:\n",
    "            continue\n",
    "        else:\n",
    "            bread = bread.split(\"-\")[1]\n",
    "        if bread in breads:\n",
    "            c = 0\n",
    "            for img in img_list:\n",
    "                im = Image.open(os.path.join(f[0], img))\n",
    "                if 0.9 <= im.size[0]/im.size[1] <= 1.1:\n",
    "                    c += 1\n",
    "                    im_res = im.resize((size, size), Image.ANTIALIAS)\n",
    "                    im_res.save(os.path.join(resdir, bread + \"_%s\" %c)+\".jpg\")\n",
    "                    count += 1\n",
    "    return count  "
   ]
  },
  {
   "cell_type": "code",
   "execution_count": 18,
   "metadata": {},
   "outputs": [],
   "source": [
    "res = parseImg(imgdir, resdir)"
   ]
  },
  {
   "cell_type": "code",
   "execution_count": 19,
   "metadata": {},
   "outputs": [
    {
     "data": {
      "text/plain": [
       "201"
      ]
     },
     "execution_count": 19,
     "metadata": {},
     "output_type": "execute_result"
    }
   ],
   "source": [
    "res"
   ]
  },
  {
   "cell_type": "code",
   "execution_count": null,
   "metadata": {
    "collapsed": true
   },
   "outputs": [],
   "source": []
  }
 ],
 "metadata": {
  "kernelspec": {
   "display_name": "Python 3",
   "language": "python",
   "name": "python3"
  },
  "language_info": {
   "codemirror_mode": {
    "name": "ipython",
    "version": 3
   },
   "file_extension": ".py",
   "mimetype": "text/x-python",
   "name": "python",
   "nbconvert_exporter": "python",
   "pygments_lexer": "ipython3",
   "version": "3.6.3"
  }
 },
 "nbformat": 4,
 "nbformat_minor": 2
}
