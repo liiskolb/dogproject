{
 "cells": [
  {
   "cell_type": "code",
   "execution_count": 1,
   "metadata": {
    "collapsed": true
   },
   "outputs": [],
   "source": [
    "import os\n",
    "from PIL import Image\n",
    "import numpy as np"
   ]
  },
  {
   "cell_type": "code",
   "execution_count": 86,
   "metadata": {
    "collapsed": true
   },
   "outputs": [],
   "source": [
    "imgdir = \"Images\"\n",
    "resdir = \"Resimages2\"\n",
    "\n",
    "breads = [\"beagle\", 'EntleBucher', 'collie', 'Chihuahua', 'boxer', 'Doberman', 'English_foxhound', 'Rottweiler', 'German_shepherd', 'French_bulldog', 'golden_retriever', 'Maltese_dog']\n",
    "breads2 = ['EntleBucher', 'Doberman', 'golden_retriever', 'Maltese_dog']\n",
    "breads3 = [\"Rottweiler\"]\n",
    "def parseImg(imgdir, resdir):\n",
    "    size = 128\n",
    "    count = 0\n",
    "    for f in os.walk(imgdir):\n",
    "        img_list = f[2]\n",
    "        bread = f[0]\n",
    "        if bread == imgdir:\n",
    "            continue\n",
    "        else:\n",
    "            bread = bread.split(\"-\")[1]\n",
    "        if bread in breads3:\n",
    "            c = 0\n",
    "            for img in img_list:\n",
    "                im = Image.open(os.path.join(f[0], img))\n",
    "                if 0.8 <= im.size[0]/im.size[1] <= 1.2:\n",
    "                    c += 1\n",
    "                    im_res = im.resize((size, size), Image.ANTIALIAS)\n",
    "                    im_res.save(os.path.join(resdir, bread + \"_%s\" %c)+\".jpg\")\n",
    "                    count += 1\n",
    "    return count  "
   ]
  },
  {
   "cell_type": "code",
   "execution_count": 87,
   "metadata": {},
   "outputs": [],
   "source": [
    "res = parseImg(imgdir, resdir)"
   ]
  },
  {
   "cell_type": "code",
   "execution_count": 83,
   "metadata": {},
   "outputs": [
    {
     "data": {
      "text/plain": [
       "123"
      ]
     },
     "execution_count": 83,
     "metadata": {},
     "output_type": "execute_result"
    }
   ],
   "source": [
    "res"
   ]
  },
  {
   "cell_type": "code",
   "execution_count": 66,
   "metadata": {},
   "outputs": [],
   "source": [
    "size = 128\n",
    "for img in os.listdir(\"Bosu\"):\n",
    "    im = Image.open(os.path.join(\"Bosu\", img))\n",
    "    im_res = im.resize((size, size), Image.ANTIALIAS)\n",
    "    im_res.save(os.path.join(resdir, img)+\".jpg\")"
   ]
  },
  {
   "cell_type": "code",
   "execution_count": 28,
   "metadata": {
    "collapsed": true
   },
   "outputs": [],
   "source": [
    "from skimage.io import imread, imshow, imread_collection, concatenate_images\n",
    "import re"
   ]
  },
  {
   "cell_type": "code",
   "execution_count": 93,
   "metadata": {},
   "outputs": [],
   "source": [
    "img_list = os.listdir(resdir)\n",
    "IMG_HEIGHT = 128\n",
    "IMG_WIDTH = 128\n",
    "IMG_CHANNELS = 3\n",
    "\n",
    "X_train = np.zeros((len(img_list), IMG_HEIGHT, IMG_WIDTH, IMG_CHANNELS), dtype=np.uint8)\n",
    "Y_train = []\n",
    "\n",
    "for n, img in enumerate(img_list):\n",
    "    if not img == \".DS_Store\":\n",
    "        img_res = imread(os.path.join(resdir, img))[:,:,:IMG_CHANNELS]\n",
    "        X_train[n] = img_res\n",
    "        bread = re.sub(\"_\\d+\", \"\", img.split(\".\")[0])\n",
    "        Y_train.append(bread)"
   ]
  },
  {
   "cell_type": "code",
   "execution_count": 95,
   "metadata": {},
   "outputs": [
    {
     "data": {
      "text/plain": [
       "111"
      ]
     },
     "execution_count": 95,
     "metadata": {},
     "output_type": "execute_result"
    }
   ],
   "source": [
    "len(img_list)"
   ]
  },
  {
   "cell_type": "code",
   "execution_count": 48,
   "metadata": {
    "collapsed": true
   },
   "outputs": [],
   "source": [
    "import pandas as pd"
   ]
  },
  {
   "cell_type": "code",
   "execution_count": 89,
   "metadata": {},
   "outputs": [
    {
     "data": {
      "text/plain": [
       "(112, 128, 128, 3)"
      ]
     },
     "execution_count": 89,
     "metadata": {},
     "output_type": "execute_result"
    }
   ],
   "source": [
    "X_train.shape"
   ]
  },
  {
   "cell_type": "code",
   "execution_count": 104,
   "metadata": {},
   "outputs": [
    {
     "data": {
      "text/plain": [
       "array([[180, 164, 139],\n",
       "       [180, 164, 139],\n",
       "       [180, 164, 139],\n",
       "       [181, 165, 140],\n",
       "       [181, 165, 140],\n",
       "       [181, 165, 140],\n",
       "       [182, 166, 141],\n",
       "       [182, 166, 141],\n",
       "       [183, 167, 142],\n",
       "       [184, 168, 143],\n",
       "       [185, 169, 144],\n",
       "       [185, 169, 144],\n",
       "       [186, 170, 145],\n",
       "       [186, 170, 145],\n",
       "       [185, 169, 144],\n",
       "       [185, 169, 144],\n",
       "       [187, 172, 143],\n",
       "       [187, 172, 143],\n",
       "       [187, 172, 143],\n",
       "       [188, 173, 144],\n",
       "       [188, 173, 144],\n",
       "       [189, 174, 145],\n",
       "       [189, 174, 145],\n",
       "       [189, 174, 145],\n",
       "       [189, 174, 145],\n",
       "       [189, 174, 145],\n",
       "       [189, 174, 145],\n",
       "       [189, 174, 145],\n",
       "       [189, 174, 145],\n",
       "       [189, 174, 145],\n",
       "       [189, 174, 145],\n",
       "       [189, 174, 145],\n",
       "       [190, 173, 157],\n",
       "       [190, 173, 157],\n",
       "       [191, 172, 155],\n",
       "       [191, 172, 155],\n",
       "       [193, 172, 153],\n",
       "       [193, 172, 153],\n",
       "       [194, 172, 151],\n",
       "       [196, 171, 149],\n",
       "       [198, 172, 149],\n",
       "       [199, 171, 147],\n",
       "       [199, 171, 147],\n",
       "       [201, 171, 145],\n",
       "       [202, 171, 143],\n",
       "       [200, 169, 141],\n",
       "       [201, 167, 139],\n",
       "       [200, 166, 138],\n",
       "       [195, 164, 136],\n",
       "       [198, 168, 140],\n",
       "       [202, 172, 146],\n",
       "       [201, 171, 145],\n",
       "       [197, 167, 141],\n",
       "       [195, 165, 139],\n",
       "       [195, 167, 143],\n",
       "       [198, 170, 146],\n",
       "       [200, 172, 148],\n",
       "       [200, 172, 148],\n",
       "       [199, 173, 150],\n",
       "       [199, 173, 150],\n",
       "       [199, 173, 150],\n",
       "       [199, 173, 150],\n",
       "       [198, 174, 150],\n",
       "       [198, 173, 151],\n",
       "       [199, 175, 137],\n",
       "       [199, 175, 137],\n",
       "       [199, 175, 137],\n",
       "       [199, 175, 137],\n",
       "       [200, 174, 137],\n",
       "       [200, 174, 137],\n",
       "       [200, 174, 137],\n",
       "       [202, 174, 137],\n",
       "       [205, 177, 140],\n",
       "       [205, 177, 140],\n",
       "       [205, 177, 140],\n",
       "       [205, 175, 139],\n",
       "       [205, 175, 139],\n",
       "       [205, 175, 139],\n",
       "       [204, 174, 138],\n",
       "       [204, 174, 138],\n",
       "       [204, 175, 133],\n",
       "       [204, 175, 133],\n",
       "       [204, 175, 133],\n",
       "       [203, 174, 132],\n",
       "       [203, 174, 132],\n",
       "       [203, 174, 132],\n",
       "       [202, 173, 131],\n",
       "       [202, 173, 131],\n",
       "       [200, 171, 129],\n",
       "       [200, 171, 129],\n",
       "       [199, 170, 128],\n",
       "       [199, 170, 128],\n",
       "       [199, 170, 128],\n",
       "       [198, 169, 127],\n",
       "       [198, 169, 127],\n",
       "       [198, 169, 127],\n",
       "       [196, 167, 125],\n",
       "       [196, 167, 125],\n",
       "       [195, 166, 124],\n",
       "       [195, 166, 124],\n",
       "       [195, 166, 124],\n",
       "       [194, 165, 123],\n",
       "       [194, 165, 123],\n",
       "       [194, 165, 123],\n",
       "       [192, 163, 121],\n",
       "       [192, 163, 121],\n",
       "       [191, 162, 120],\n",
       "       [190, 161, 119],\n",
       "       [189, 160, 118],\n",
       "       [189, 160, 118],\n",
       "       [188, 159, 117],\n",
       "       [188, 159, 117],\n",
       "       [186, 159, 114],\n",
       "       [186, 159, 114],\n",
       "       [185, 158, 113],\n",
       "       [185, 158, 113],\n",
       "       [185, 158, 113],\n",
       "       [184, 157, 112],\n",
       "       [184, 157, 112],\n",
       "       [184, 157, 112],\n",
       "       [181, 154, 109],\n",
       "       [180, 153, 108],\n",
       "       [180, 153, 108],\n",
       "       [180, 153, 108],\n",
       "       [179, 152, 107],\n",
       "       [179, 152, 107],\n",
       "       [179, 152, 107],\n",
       "       [179, 152, 107]], dtype=uint8)"
      ]
     },
     "execution_count": 104,
     "metadata": {},
     "output_type": "execute_result"
    }
   ],
   "source": [
    "X_train[1,][0]"
   ]
  },
  {
   "cell_type": "code",
   "execution_count": 96,
   "metadata": {},
   "outputs": [],
   "source": [
    "X_train_flat = X_train.reshape(111, 128*128*3)"
   ]
  },
  {
   "cell_type": "code",
   "execution_count": 70,
   "metadata": {},
   "outputs": [
    {
     "data": {
      "text/plain": [
       "(207, 49152)"
      ]
     },
     "execution_count": 70,
     "metadata": {},
     "output_type": "execute_result"
    }
   ],
   "source": [
    "X_train_flat.shape"
   ]
  },
  {
   "cell_type": "code",
   "execution_count": 100,
   "metadata": {},
   "outputs": [],
   "source": [
    "res = pd.DataFrame(X_train_flat)\n",
    "res[\"label\"] = Y_train\n",
    "res[\"image\"] = img_list"
   ]
  },
  {
   "cell_type": "code",
   "execution_count": 101,
   "metadata": {},
   "outputs": [
    {
     "data": {
      "text/html": [
       "<div>\n",
       "<style>\n",
       "    .dataframe thead tr:only-child th {\n",
       "        text-align: right;\n",
       "    }\n",
       "\n",
       "    .dataframe thead th {\n",
       "        text-align: left;\n",
       "    }\n",
       "\n",
       "    .dataframe tbody tr th {\n",
       "        vertical-align: top;\n",
       "    }\n",
       "</style>\n",
       "<table border=\"1\" class=\"dataframe\">\n",
       "  <thead>\n",
       "    <tr style=\"text-align: right;\">\n",
       "      <th></th>\n",
       "      <th>0</th>\n",
       "      <th>1</th>\n",
       "      <th>2</th>\n",
       "      <th>3</th>\n",
       "      <th>4</th>\n",
       "      <th>5</th>\n",
       "      <th>6</th>\n",
       "      <th>7</th>\n",
       "      <th>8</th>\n",
       "      <th>9</th>\n",
       "      <th>...</th>\n",
       "      <th>49144</th>\n",
       "      <th>49145</th>\n",
       "      <th>49146</th>\n",
       "      <th>49147</th>\n",
       "      <th>49148</th>\n",
       "      <th>49149</th>\n",
       "      <th>49150</th>\n",
       "      <th>49151</th>\n",
       "      <th>label</th>\n",
       "      <th>image</th>\n",
       "    </tr>\n",
       "  </thead>\n",
       "  <tbody>\n",
       "    <tr>\n",
       "      <th>0</th>\n",
       "      <td>18</td>\n",
       "      <td>22</td>\n",
       "      <td>23</td>\n",
       "      <td>18</td>\n",
       "      <td>22</td>\n",
       "      <td>25</td>\n",
       "      <td>17</td>\n",
       "      <td>21</td>\n",
       "      <td>24</td>\n",
       "      <td>17</td>\n",
       "      <td>...</td>\n",
       "      <td>200</td>\n",
       "      <td>110</td>\n",
       "      <td>171</td>\n",
       "      <td>190</td>\n",
       "      <td>100</td>\n",
       "      <td>168</td>\n",
       "      <td>187</td>\n",
       "      <td>97</td>\n",
       "      <td>EntleBucher</td>\n",
       "      <td>EntleBucher_1.jpg</td>\n",
       "    </tr>\n",
       "    <tr>\n",
       "      <th>1</th>\n",
       "      <td>180</td>\n",
       "      <td>164</td>\n",
       "      <td>139</td>\n",
       "      <td>180</td>\n",
       "      <td>164</td>\n",
       "      <td>139</td>\n",
       "      <td>180</td>\n",
       "      <td>164</td>\n",
       "      <td>139</td>\n",
       "      <td>181</td>\n",
       "      <td>...</td>\n",
       "      <td>187</td>\n",
       "      <td>167</td>\n",
       "      <td>204</td>\n",
       "      <td>187</td>\n",
       "      <td>167</td>\n",
       "      <td>204</td>\n",
       "      <td>187</td>\n",
       "      <td>167</td>\n",
       "      <td>EntleBucher</td>\n",
       "      <td>EntleBucher_10.jpg</td>\n",
       "    </tr>\n",
       "    <tr>\n",
       "      <th>2</th>\n",
       "      <td>7</td>\n",
       "      <td>6</td>\n",
       "      <td>22</td>\n",
       "      <td>36</td>\n",
       "      <td>35</td>\n",
       "      <td>51</td>\n",
       "      <td>169</td>\n",
       "      <td>171</td>\n",
       "      <td>186</td>\n",
       "      <td>59</td>\n",
       "      <td>...</td>\n",
       "      <td>131</td>\n",
       "      <td>126</td>\n",
       "      <td>128</td>\n",
       "      <td>129</td>\n",
       "      <td>124</td>\n",
       "      <td>126</td>\n",
       "      <td>127</td>\n",
       "      <td>122</td>\n",
       "      <td>EntleBucher</td>\n",
       "      <td>EntleBucher_11.jpg</td>\n",
       "    </tr>\n",
       "    <tr>\n",
       "      <th>3</th>\n",
       "      <td>183</td>\n",
       "      <td>194</td>\n",
       "      <td>164</td>\n",
       "      <td>184</td>\n",
       "      <td>195</td>\n",
       "      <td>163</td>\n",
       "      <td>166</td>\n",
       "      <td>177</td>\n",
       "      <td>145</td>\n",
       "      <td>178</td>\n",
       "      <td>...</td>\n",
       "      <td>158</td>\n",
       "      <td>175</td>\n",
       "      <td>192</td>\n",
       "      <td>153</td>\n",
       "      <td>180</td>\n",
       "      <td>183</td>\n",
       "      <td>146</td>\n",
       "      <td>179</td>\n",
       "      <td>EntleBucher</td>\n",
       "      <td>EntleBucher_12.jpg</td>\n",
       "    </tr>\n",
       "    <tr>\n",
       "      <th>4</th>\n",
       "      <td>73</td>\n",
       "      <td>104</td>\n",
       "      <td>124</td>\n",
       "      <td>70</td>\n",
       "      <td>101</td>\n",
       "      <td>121</td>\n",
       "      <td>70</td>\n",
       "      <td>101</td>\n",
       "      <td>121</td>\n",
       "      <td>73</td>\n",
       "      <td>...</td>\n",
       "      <td>122</td>\n",
       "      <td>141</td>\n",
       "      <td>96</td>\n",
       "      <td>123</td>\n",
       "      <td>144</td>\n",
       "      <td>98</td>\n",
       "      <td>125</td>\n",
       "      <td>146</td>\n",
       "      <td>EntleBucher</td>\n",
       "      <td>EntleBucher_13.jpg</td>\n",
       "    </tr>\n",
       "  </tbody>\n",
       "</table>\n",
       "<p>5 rows × 49154 columns</p>\n",
       "</div>"
      ],
      "text/plain": [
       "     0    1    2    3    4    5    6    7    8    9         ...          \\\n",
       "0   18   22   23   18   22   25   17   21   24   17         ...           \n",
       "1  180  164  139  180  164  139  180  164  139  181         ...           \n",
       "2    7    6   22   36   35   51  169  171  186   59         ...           \n",
       "3  183  194  164  184  195  163  166  177  145  178         ...           \n",
       "4   73  104  124   70  101  121   70  101  121   73         ...           \n",
       "\n",
       "   49144  49145  49146  49147  49148  49149  49150  49151        label  \\\n",
       "0    200    110    171    190    100    168    187     97  EntleBucher   \n",
       "1    187    167    204    187    167    204    187    167  EntleBucher   \n",
       "2    131    126    128    129    124    126    127    122  EntleBucher   \n",
       "3    158    175    192    153    180    183    146    179  EntleBucher   \n",
       "4    122    141     96    123    144     98    125    146  EntleBucher   \n",
       "\n",
       "                image  \n",
       "0   EntleBucher_1.jpg  \n",
       "1  EntleBucher_10.jpg  \n",
       "2  EntleBucher_11.jpg  \n",
       "3  EntleBucher_12.jpg  \n",
       "4  EntleBucher_13.jpg  \n",
       "\n",
       "[5 rows x 49154 columns]"
      ]
     },
     "execution_count": 101,
     "metadata": {},
     "output_type": "execute_result"
    }
   ],
   "source": [
    "res.head()"
   ]
  },
  {
   "cell_type": "code",
   "execution_count": 102,
   "metadata": {
    "collapsed": true
   },
   "outputs": [],
   "source": [
    "res.to_csv(\"dogdata2.csv\")"
   ]
  },
  {
   "cell_type": "code",
   "execution_count": null,
   "metadata": {
    "collapsed": true
   },
   "outputs": [],
   "source": []
  }
 ],
 "metadata": {
  "kernelspec": {
   "display_name": "Python 3",
   "language": "python",
   "name": "python3"
  },
  "language_info": {
   "codemirror_mode": {
    "name": "ipython",
    "version": 3
   },
   "file_extension": ".py",
   "mimetype": "text/x-python",
   "name": "python",
   "nbconvert_exporter": "python",
   "pygments_lexer": "ipython3",
   "version": "3.6.3"
  }
 },
 "nbformat": 4,
 "nbformat_minor": 2
}
